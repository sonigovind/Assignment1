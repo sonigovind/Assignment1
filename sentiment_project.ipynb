{
  "nbformat": 4,
  "nbformat_minor": 5,
  "metadata": {
    "kernelspec": {
      "display_name": "Python 3",
      "language": "python",
      "name": "python3"
    },
    "language_info": {
      "codemirror_mode": {
        "name": "ipython",
        "version": 3
      },
      "file_extension": ".py",
      "mimetype": "text/x-python",
      "name": "python",
      "nbconvert_exporter": "python",
      "pygments_lexer": "ipython3",
      "version": "3.9.1"
    },
    "toc": {
      "base_numbering": 1,
      "nav_menu": {},
      "number_sections": true,
      "sideBar": true,
      "skip_h1_title": false,
      "title_cell": "Table of Contents",
      "title_sidebar": "Contents",
      "toc_cell": false,
      "toc_position": {},
      "toc_section_display": true,
      "toc_window_display": false
    },
    "varInspector": {
      "cols": {
        "lenName": 16,
        "lenType": 16,
        "lenVar": 40
      },
      "kernels_config": {
        "python": {
          "delete_cmd_postfix": "",
          "delete_cmd_prefix": "del ",
          "library": "var_list.py",
          "varRefreshCmd": "print(var_dic_list())"
        },
        "r": {
          "delete_cmd_postfix": ") ",
          "delete_cmd_prefix": "rm(",
          "library": "var_list.r",
          "varRefreshCmd": "cat(var_dic_list()) "
        }
      },
      "types_to_exclude": [
        "module",
        "function",
        "builtin_function_or_method",
        "instance",
        "_Feature"
      ],
      "window_display": false
    },
    "colab": {
      "name": "sentiment_project.ipynb",
      "provenance": [],
      "include_colab_link": true
    }
  },
  "cells": [
    {
      "cell_type": "markdown",
      "metadata": {
        "id": "view-in-github",
        "colab_type": "text"
      },
      "source": [
        "<a href=\"https://colab.research.google.com/github/sonigovind/Assignment1/blob/main/sentiment_project.ipynb\" target=\"_parent\"><img src=\"https://colab.research.google.com/assets/colab-badge.svg\" alt=\"Open In Colab\"/></a>"
      ]
    },
    {
      "cell_type": "code",
      "metadata": {
        "colab": {
          "base_uri": "https://localhost:8080/"
        },
        "id": "YrfqDW0f3lOm",
        "outputId": "d3aabb9f-80ed-48a0-961a-6790ac74980e"
      },
      "source": [
        "pip install tweet-preprocessor"
      ],
      "id": "YrfqDW0f3lOm",
      "execution_count": 1,
      "outputs": [
        {
          "output_type": "stream",
          "text": [
            "Collecting tweet-preprocessor\n",
            "  Downloading tweet_preprocessor-0.6.0-py3-none-any.whl (27 kB)\n",
            "Installing collected packages: tweet-preprocessor\n",
            "Successfully installed tweet-preprocessor-0.6.0\n"
          ],
          "name": "stdout"
        }
      ]
    },
    {
      "cell_type": "code",
      "metadata": {
        "id": "artificial-geometry"
      },
      "source": [
        "import tweepy\n",
        "from textblob import  TextBlob\n",
        "from preprocessor.api import clean\n",
        "import statistics\n",
        "from typing import List\n",
        "import seaborn as sns\n",
        "import matplotlib.pyplot as plt\n",
        "%matplotlib inline\n",
        "sns.set(style='darkgrid')\n",
        "import numpy as np\n"
      ],
      "id": "artificial-geometry",
      "execution_count": 11,
      "outputs": []
    },
    {
      "cell_type": "code",
      "metadata": {
        "id": "afraid-mediterranean"
      },
      "source": [
        "consumer_key= \"RiUyNnswifShl2GG13woPXJxb\"\n",
        "consumer_secret=\"D0C1m0BBQXJLfjQSEQXE741TXKAGNx7wo4esdWobWQZZnBfdtH\""
      ],
      "id": "afraid-mediterranean",
      "execution_count": 3,
      "outputs": []
    },
    {
      "cell_type": "code",
      "metadata": {
        "id": "impressed-baghdad"
      },
      "source": [
        "# Authenticate to Twitter\n",
        "auth = tweepy.OAuthHandler(consumer_key, consumer_secret)\n",
        "api = tweepy.API(auth)"
      ],
      "id": "impressed-baghdad",
      "execution_count": 4,
      "outputs": []
    },
    {
      "cell_type": "code",
      "metadata": {
        "id": "aging-teaching"
      },
      "source": [
        "def get_tweets(keyword):\n",
        "    all_tweets=[]\n",
        "    for tweet in tweepy.Cursor(api.search, q=keyword,tweet_mode='extended', lang='en' ).items(100):\n",
        "        all_tweets.append(tweet.full_text)\n",
        "    return all_tweets"
      ],
      "id": "aging-teaching",
      "execution_count": 5,
      "outputs": []
    },
    {
      "cell_type": "code",
      "metadata": {
        "id": "portable-choice"
      },
      "source": [
        "def clean_tweets(all_tweets):\n",
        "    tweets_clean=[]\n",
        "    for tweet in all_tweets:\n",
        "        tweets_clean.append(clean(tweet))\n",
        "    return tweets_clean"
      ],
      "id": "portable-choice",
      "execution_count": 6,
      "outputs": []
    },
    {
      "cell_type": "code",
      "metadata": {
        "id": "continuous-orchestra"
      },
      "source": [
        "def get_sentiments(all_tweets):\n",
        "    sentiment_score=[]\n",
        "    for tweet in  all_tweets:\n",
        "        blob=TextBlob(tweet)\n",
        "        sentiment_score.append(blob.sentiment.polarity)\n",
        "    return sentiment_score"
      ],
      "id": "continuous-orchestra",
      "execution_count": 7,
      "outputs": []
    },
    {
      "cell_type": "code",
      "metadata": {
        "id": "sharp-suggestion"
      },
      "source": [
        "#for create plot \n",
        "def create_plot(first_score, avg, keyword):\n",
        "    plt.title(keyword)\n",
        "    plt.plot(first_score)\n",
        "    plt.axhline(avg, color='orange', linestyle='dashed', label=f'''AVG {np.round(avg, 2)}''')#horizontal line for show avg\n",
        "    plt.legend(loc='upper right')\n",
        "    plt.show()"
      ],
      "id": "sharp-suggestion",
      "execution_count": 8,
      "outputs": []
    },
    {
      "cell_type": "code",
      "metadata": {
        "id": "union-lodge"
      },
      "source": [
        "def generate_sent_score(keyword):\n",
        "    tweets=get_tweets(keyword)\n",
        "    tweets_clean=clean_tweets(tweets)\n",
        "    sentiment_scores=get_sentiments(tweets_clean)\n",
        "    average_score=statistics.mean(sentiment_scores)\n",
        "    create_plot(sentiment_scores, average_score, keyword) #call function for create plot(graph)\n",
        "    return average_score"
      ],
      "id": "union-lodge",
      "execution_count": 9,
      "outputs": []
    },
    {
      "cell_type": "code",
      "metadata": {
        "colab": {
          "base_uri": "https://localhost:8080/"
        },
        "id": "dimensional-rachel",
        "outputId": "773816ee-3d98-4758-d3f3-17ff203a5a54"
      },
      "source": [
        "if __name__==\"__main__\":\n",
        "    print(\"Who win\")\n",
        "    first_thing=input()\n",
        "    print(\"..or..\")\n",
        "    second_thing=input()\n",
        "    first_score = generate_sent_score(first_thing)\n",
        "    sec_score = generate_sent_score(second_thing)\n",
        "    \n",
        "    if(first_score>sec_score):\n",
        "        print(f\" prefers {first_thing}({first_score}) over {second_thing}({sec_score})\")\n",
        "    else:\n",
        "        print(f\" prefers {second_thing}({sec_score}) over {first_thing}({first_score})\")"
      ],
      "id": "dimensional-rachel",
      "execution_count": null,
      "outputs": [
        {
          "output_type": "stream",
          "text": [
            "Who win\n"
          ],
          "name": "stdout"
        }
      ]
    },
    {
      "cell_type": "code",
      "metadata": {
        "id": "mathematical-migration"
      },
      "source": [
        ""
      ],
      "id": "mathematical-migration",
      "execution_count": null,
      "outputs": []
    },
    {
      "cell_type": "code",
      "metadata": {
        "id": "bound-preparation",
        "outputId": "1ae05cf5-6619-4ee5-9314-96ac16244d89"
      },
      "source": [
        "for t in tweepy.Cursor(api.search, q=\"babar aazam\",tweet_mode='extended', lang='en' ).items(10):\n",
        "    print(t.full_text)"
      ],
      "id": "bound-preparation",
      "execution_count": null,
      "outputs": [
        {
          "output_type": "stream",
          "text": [
            "@imVkohli babar Aazam better than you\n",
            "Babar Aazam's good captaincy, he hasn't given over to Hasnain.\n",
            "#PAKvsENG\n",
            "@daniel86cricket @BCCI Bsdk jaake babar aazam ko blowjob de chavnni chod\n",
            "@MalhotraSaurabh So B team of India thrashed SL today. And Daniel Alexander is still masturbating over Babar Aazam. 😂😂\n",
            "@MaleehaHashmey 1 man army ..... Babar aazam https://t.co/MNRphx4UBK\n",
            "@ImRo45 Watch babar aazam roasted video \n",
            "\n",
            "https://t.co/OEM5Lo3C6l\n",
            "RT @_iamanikett: @babarazam258 You can take only one player from each country.  So make the best T20 team in the world.  Who will be in you…\n",
            "RT @_iamanikett: @babarazam258 You can take only one player from each country.  So make the best T20 team in the world.  Who will be in you…\n",
            "@babarazam258 You can take only one player from each country.  So make the best T20 team in the world.  Who will be in your team from India \n",
            "\n",
            "My t20 team\n",
            "Warner\n",
            "Rohit sharma ( C )\n",
            "Colin munro\n",
            "Babar aazam\n",
            "Andre Russell\n",
            "Shakib\n",
            "Ab Devillers\n",
            "Rashid\n",
            "Sandeep lamichane\n",
            "Jofra archer\n",
            "Lasith malinga\n"
          ],
          "name": "stdout"
        }
      ]
    },
    {
      "cell_type": "code",
      "metadata": {
        "id": "strategic-binding"
      },
      "source": [
        ""
      ],
      "id": "strategic-binding",
      "execution_count": null,
      "outputs": []
    }
  ]
}